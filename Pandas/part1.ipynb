{
 "cells": [
  {
   "attachments": {},
   "cell_type": "markdown",
   "metadata": {},
   "source": [
    "#### 객체 간 연산"
   ]
  },
  {
   "cell_type": "code",
   "execution_count": 1,
   "metadata": {},
   "outputs": [],
   "source": [
    "import pandas as pd"
   ]
  },
  {
   "cell_type": "code",
   "execution_count": 2,
   "metadata": {},
   "outputs": [
    {
     "name": "stdout",
     "output_type": "stream",
     "text": [
      "      col1  col2  col3\n",
      "row1     1    10   100\n",
      "row2     2    20   200\n",
      "row3     3    30   300\n"
     ]
    }
   ],
   "source": [
    "data = [[1,10,100],[2,20,200],[3,30,300]]\n",
    "col = ['col1','col2','col3']\n",
    "row = ['row1','row2','row3']\n",
    "\n",
    "data = pd.DataFrame(data, columns=col, index=row)\n",
    "print(data)"
   ]
  },
  {
   "cell_type": "code",
   "execution_count": 4,
   "metadata": {},
   "outputs": [
    {
     "name": "stdout",
     "output_type": "stream",
     "text": [
      "      col1  col2  col3\n",
      "row1     2    11   101\n",
      "row2     3    21   201\n",
      "row3     4    31   301\n"
     ]
    }
   ],
   "source": [
    "# 스칼라 값 더하기\n",
    "\n",
    "result = data.add(1)\n",
    "print(result)"
   ]
  },
  {
   "attachments": {},
   "cell_type": "markdown",
   "metadata": {},
   "source": [
    "#### DataFrame 객체를 더하기"
   ]
  },
  {
   "cell_type": "code",
   "execution_count": 5,
   "metadata": {},
   "outputs": [
    {
     "name": "stdout",
     "output_type": "stream",
     "text": [
      "      col1\n",
      "row1     3\n",
      "row2     4\n",
      "row3     5\n"
     ]
    }
   ],
   "source": [
    "data2 = [[3],[4],[5]]\n",
    "\n",
    "df2 = pd.DataFrame(data = data2, index=['row1','row2','row3'], columns=['col1'])\n",
    "print(df2)"
   ]
  },
  {
   "cell_type": "code",
   "execution_count": 6,
   "metadata": {},
   "outputs": [
    {
     "name": "stdout",
     "output_type": "stream",
     "text": [
      "      col1  col2  col3\n",
      "row1     4   NaN   NaN\n",
      "row2     6   NaN   NaN\n",
      "row3     8   NaN   NaN\n"
     ]
    }
   ],
   "source": [
    "result = data.add(df2)\n",
    "print(result)"
   ]
  },
  {
   "cell_type": "code",
   "execution_count": null,
   "metadata": {},
   "outputs": [],
   "source": [
    "# fill_value -> 오류를 출력 가능핫게"
   ]
  }
 ],
 "metadata": {
  "kernelspec": {
   "display_name": "Python 3",
   "language": "python",
   "name": "python3"
  },
  "language_info": {
   "codemirror_mode": {
    "name": "ipython",
    "version": 3
   },
   "file_extension": ".py",
   "mimetype": "text/x-python",
   "name": "python",
   "nbconvert_exporter": "python",
   "pygments_lexer": "ipython3",
   "version": "3.11.1"
  },
  "orig_nbformat": 4,
  "vscode": {
   "interpreter": {
    "hash": "8d29ec00ae0add0190cce9c6bb44028ed64b4cb4a58b5f5c12e34c6897e75494"
   }
  }
 },
 "nbformat": 4,
 "nbformat_minor": 2
}
