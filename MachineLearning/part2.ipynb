{
 "cells": [
  {
   "attachments": {},
   "cell_type": "markdown",
   "metadata": {},
   "source": [
    "#### 리스트\n",
    "- 여러 개의 데이터를 하나의 모음(집합)으로 다루고 싶을 때 사용하는 대표적인 자료형."
   ]
  },
  {
   "cell_type": "code",
   "execution_count": 2,
   "metadata": {},
   "outputs": [
    {
     "data": {
      "text/plain": [
       "[1, 2, 3, 4, 5]"
      ]
     },
     "execution_count": 2,
     "metadata": {},
     "output_type": "execute_result"
    }
   ],
   "source": [
    "list1 = [1,2,3,4,5]\n",
    "list1"
   ]
  },
  {
   "cell_type": "code",
   "execution_count": 8,
   "metadata": {},
   "outputs": [
    {
     "data": {
      "text/plain": [
       "list"
      ]
     },
     "execution_count": 8,
     "metadata": {},
     "output_type": "execute_result"
    }
   ],
   "source": [
    "# type은 말 그대로 변수의 타입을 구할 때 사용!\n",
    "type(list1)"
   ]
  },
  {
   "cell_type": "code",
   "execution_count": 9,
   "metadata": {},
   "outputs": [
    {
     "name": "stdout",
     "output_type": "stream",
     "text": [
      "[10]\n",
      "<class 'list'>\n"
     ]
    }
   ],
   "source": [
    "# 원소가 1개인 리스트\n",
    "list2 = [10]\n",
    "print(list2)\n",
    "print(type(list2))"
   ]
  },
  {
   "cell_type": "code",
   "execution_count": 10,
   "metadata": {},
   "outputs": [
    {
     "name": "stdout",
     "output_type": "stream",
     "text": [
      "[]\n"
     ]
    }
   ],
   "source": [
    "# list()함수에 배열을 입력하지 않으면 원소가 없는 빈 리스트 생성\n",
    "list3 = list()\n",
    "print(list3)"
   ]
  },
  {
   "cell_type": "code",
   "execution_count": 11,
   "metadata": {},
   "outputs": [
    {
     "data": {
      "text/plain": [
       "[]"
      ]
     },
     "execution_count": 11,
     "metadata": {},
     "output_type": "execute_result"
    }
   ],
   "source": [
    "# 원소를 추가하지 않고 대괄호만 입력하는 방법으로도 빈 리스트 생성 가능!\n",
    "list4 = []\n",
    "list4"
   ]
  },
  {
   "attachments": {},
   "cell_type": "markdown",
   "metadata": {},
   "source": [
    "#### 리스트를 원소로 갖는 리스트\n",
    "- 모든 종류의 파이썬 객체는 리스트의 원소가 될 수 있다.\n",
    "- 리스트도 다른 리스트의 원소가 될 수 있다."
   ]
  },
  {
   "cell_type": "code",
   "execution_count": 12,
   "metadata": {},
   "outputs": [
    {
     "data": {
      "text/plain": [
       "[[1, 2, 3, 4, 5], [10], []]"
      ]
     },
     "execution_count": 12,
     "metadata": {},
     "output_type": "execute_result"
    }
   ],
   "source": [
    "list_of_list = [list1,list2,list3]\n",
    "list_of_list"
   ]
  },
  {
   "cell_type": "code",
   "execution_count": 13,
   "metadata": {},
   "outputs": [
    {
     "data": {
      "text/plain": [
       "list"
      ]
     },
     "execution_count": 13,
     "metadata": {},
     "output_type": "execute_result"
    }
   ],
   "source": [
    "# 리스트를 담는 리스트이므로 타입도 리스트이다.\n",
    "type(list_of_list)"
   ]
  },
  {
   "attachments": {},
   "cell_type": "markdown",
   "metadata": {},
   "source": [
    "#### 리스트 인덱싱\n",
    "- 문자열의 인덱싱과 비슷하며, 인덱스는 0번 부터 시작한다."
   ]
  },
  {
   "cell_type": "code",
   "execution_count": 14,
   "metadata": {},
   "outputs": [
    {
     "data": {
      "text/plain": [
       "[1, 2, 3, 4, 5]"
      ]
     },
     "execution_count": 14,
     "metadata": {},
     "output_type": "execute_result"
    }
   ],
   "source": [
    "list_of_list[0]"
   ]
  },
  {
   "cell_type": "code",
   "execution_count": 16,
   "metadata": {},
   "outputs": [
    {
     "data": {
      "text/plain": [
       "2"
      ]
     },
     "execution_count": 16,
     "metadata": {},
     "output_type": "execute_result"
    }
   ],
   "source": [
    "#리스트 모음에서 0번 리스트의 1번 인덱스 값을 가져오려면?\n",
    "list_of_list[0][1]"
   ]
  },
  {
   "cell_type": "code",
   "execution_count": 17,
   "metadata": {},
   "outputs": [
    {
     "data": {
      "text/plain": [
       "[]"
      ]
     },
     "execution_count": 17,
     "metadata": {},
     "output_type": "execute_result"
    }
   ],
   "source": [
    "#list_of_list의 마지막 원소를 추출하려면 인덱스 -1을 사용한다..\n",
    "list_of_list[-1]"
   ]
  },
  {
   "cell_type": "code",
   "execution_count": 19,
   "metadata": {},
   "outputs": [
    {
     "data": {
      "text/plain": [
       "[1, 2, 3, 4, 5]"
      ]
     },
     "execution_count": 19,
     "metadata": {},
     "output_type": "execute_result"
    }
   ],
   "source": [
    "# 인덱스 위치를 뒤에서부터 카운트할 수 있다.\n",
    "list_of_list[-3]"
   ]
  },
  {
   "attachments": {},
   "cell_type": "markdown",
   "metadata": {},
   "source": [
    "#### 리스트 슬라이싱\n",
    "- 리스트 원소의 위치(인덱스) 범위를 지정하여 여러 개의 원소를 추출한다.\n",
    "- 문자열 슬라이싱 방법과 비슷하다."
   ]
  },
  {
   "cell_type": "code",
   "execution_count": 20,
   "metadata": {},
   "outputs": [
    {
     "data": {
      "text/plain": [
       "[[1, 2, 3, 4, 5], [10]]"
      ]
     },
     "execution_count": 20,
     "metadata": {},
     "output_type": "execute_result"
    }
   ],
   "source": [
    "# list_of_list에서 2개의 리스트 가져오기\n",
    "list_of_list[0:2]"
   ]
  },
  {
   "attachments": {},
   "cell_type": "markdown",
   "metadata": {},
   "source": [
    "#### 리스트에 새로운 원소 추가\n",
    "- 리스트의 맨 뒤에 새로운 원소를 추가할 수 있다.\n",
    "- 리스트 객체에 도트(.)연산자를 이용하여 append 메소드를 적용한다."
   ]
  },
  {
   "cell_type": "code",
   "execution_count": 22,
   "metadata": {},
   "outputs": [
    {
     "data": {
      "text/plain": [
       "[1, 2, 3, 4, 5, 100, 100]"
      ]
     },
     "execution_count": 22,
     "metadata": {},
     "output_type": "execute_result"
    }
   ],
   "source": [
    "# list1에 100 값을 추가(6번째 원소로 들어간다.)\n",
    "list1.append(100)\n",
    "list1"
   ]
  },
  {
   "cell_type": "code",
   "execution_count": 36,
   "metadata": {},
   "outputs": [],
   "source": [
    "# 원소가 없는 리스트인 list3에 원소 추가해보기\n",
    "\n",
    "list3.append(7)\n",
    "list3.append(8)\n",
    "list3.append(9)"
   ]
  },
  {
   "cell_type": "code",
   "execution_count": 37,
   "metadata": {},
   "outputs": [
    {
     "data": {
      "text/plain": [
       "[7, 8, 9]"
      ]
     },
     "execution_count": 37,
     "metadata": {},
     "output_type": "execute_result"
    }
   ],
   "source": [
    "list3"
   ]
  },
  {
   "attachments": {},
   "cell_type": "markdown",
   "metadata": {},
   "source": [
    "#### 튜플(tuple)\n",
    "- 리스트 자료구조와 형태가 비슷하다 (여러 원소를 순서대로 저장할 수 있고 각 원소를 쉼표로 구별한다)\n",
    "- 리스트는 [] 안에 원소를 입력하는 형태지만, 튜플은 ()안에 원소를 입력한다.\n",
    "- 튜플은 리스트와 다르게 원소를 추가하거나 삭제할 수 없다.\n",
    "- 프로그램이 실행되는 동안 데이터의 순서와 값이 바뀌지 않아야 하는 경우에 주로 사용한다!"
   ]
  },
  {
   "cell_type": "code",
   "execution_count": 40,
   "metadata": {},
   "outputs": [
    {
     "data": {
      "text/plain": [
       "(1, 2)"
      ]
     },
     "execution_count": 40,
     "metadata": {},
     "output_type": "execute_result"
    }
   ],
   "source": [
    "# 튜플에 값 넣기\n",
    "tuple1 = (1,2)\n",
    "tuple1"
   ]
  },
  {
   "cell_type": "code",
   "execution_count": 41,
   "metadata": {},
   "outputs": [
    {
     "data": {
      "text/plain": [
       "tuple"
      ]
     },
     "execution_count": 41,
     "metadata": {},
     "output_type": "execute_result"
    }
   ],
   "source": [
    "# 튜플의 타입은 tuple\n",
    "type(tuple1)"
   ]
  },
  {
   "cell_type": "code",
   "execution_count": 42,
   "metadata": {},
   "outputs": [
    {
     "data": {
      "text/plain": [
       "('a', 'b', 100)"
      ]
     },
     "execution_count": 42,
     "metadata": {},
     "output_type": "execute_result"
    }
   ],
   "source": [
    "tuple2 = (\"a\",\"b\",100)\n",
    "tuple2"
   ]
  },
  {
   "cell_type": "code",
   "execution_count": 44,
   "metadata": {},
   "outputs": [
    {
     "name": "stdout",
     "output_type": "stream",
     "text": [
      "()\n",
      "()\n"
     ]
    }
   ],
   "source": [
    "# 원소가 없는 빈 튜플을 만드는 두가지 방법 tuple함수를 사용하거나, 빈 괄호를 사용한다.\n",
    "\n",
    "tuple3 = tuple()\n",
    "tuple4 = ()\n",
    "print(tuple3)\n",
    "print(tuple4)"
   ]
  },
  {
   "attachments": {},
   "cell_type": "markdown",
   "metadata": {},
   "source": [
    "- 리스트와 마찬가지로 원소의 위치를 나타내는 인덱스는 0부터 시작한다\n",
    "- 인덱스의 범위를 지정하여 선택하는 슬라이싱 방법도 적용 가능!"
   ]
  },
  {
   "cell_type": "code",
   "execution_count": 46,
   "metadata": {},
   "outputs": [
    {
     "data": {
      "text/plain": [
       "'a'"
      ]
     },
     "execution_count": 46,
     "metadata": {},
     "output_type": "execute_result"
    }
   ],
   "source": [
    "tuple2[0]"
   ]
  },
  {
   "cell_type": "code",
   "execution_count": 47,
   "metadata": {},
   "outputs": [
    {
     "data": {
      "text/plain": [
       "('b', 100)"
      ]
     },
     "execution_count": 47,
     "metadata": {},
     "output_type": "execute_result"
    }
   ],
   "source": [
    "tuple2[1:]"
   ]
  },
  {
   "attachments": {},
   "cell_type": "markdown",
   "metadata": {},
   "source": [
    "#### 딕셔너리(Dictonary)\n",
    "- 여러 개의 원소를 담는 자료형 중에서는 딕셔너리의 형태는 독특하다\n",
    "- 키(key) : 값 (value) 쌍으로 원소를 갖는데 중괄호 안에 원소(키:값)를 쉼표(,)로 구분하여 입력한다."
   ]
  },
  {
   "cell_type": "code",
   "execution_count": 51,
   "metadata": {},
   "outputs": [
    {
     "data": {
      "text/plain": [
       "{'name': 'Jay', 'age': 20}"
      ]
     },
     "execution_count": 51,
     "metadata": {},
     "output_type": "execute_result"
    }
   ],
   "source": [
    "# 딕셔너리 값 입력하기\n",
    "dict1 = {'name':'Jay', 'age':20}\n",
    "dict1"
   ]
  },
  {
   "cell_type": "code",
   "execution_count": 52,
   "metadata": {},
   "outputs": [
    {
     "data": {
      "text/plain": [
       "dict"
      ]
     },
     "execution_count": 52,
     "metadata": {},
     "output_type": "execute_result"
    }
   ],
   "source": [
    "# dictonary의 타입출력\n",
    "type(dict1)"
   ]
  },
  {
   "cell_type": "code",
   "execution_count": 56,
   "metadata": {},
   "outputs": [
    {
     "data": {
      "text/plain": [
       "'Jay'"
      ]
     },
     "execution_count": 56,
     "metadata": {},
     "output_type": "execute_result"
    }
   ],
   "source": [
    "dict1['name']"
   ]
  },
  {
   "cell_type": "code",
   "execution_count": 57,
   "metadata": {},
   "outputs": [
    {
     "data": {
      "text/plain": [
       "20"
      ]
     },
     "execution_count": 57,
     "metadata": {},
     "output_type": "execute_result"
    }
   ],
   "source": [
    "dict1['age']"
   ]
  },
  {
   "attachments": {},
   "cell_type": "markdown",
   "metadata": {},
   "source": [
    "- 딕셔너리에 원소를 추가하려면 추가하려는 원소의 키를 대괄호[] 안에 입력하고, 짝이되는 값을 대입 연산자(=) 오른쪽에 입력한다."
   ]
  },
  {
   "cell_type": "code",
   "execution_count": 58,
   "metadata": {},
   "outputs": [
    {
     "data": {
      "text/plain": [
       "{'name': 'Jay', 'age': 20, 'grade': [3.0, 4.0, 3.5, 4.2]}"
      ]
     },
     "execution_count": 58,
     "metadata": {},
     "output_type": "execute_result"
    }
   ],
   "source": [
    "dict1['grade'] = [3.0, 4.0, 3.5, 4.2]\n",
    "dict1"
   ]
  },
  {
   "cell_type": "code",
   "execution_count": 61,
   "metadata": {},
   "outputs": [
    {
     "data": {
      "text/plain": [
       "dict_keys(['name', 'age', 'grade'])"
      ]
     },
     "execution_count": 61,
     "metadata": {},
     "output_type": "execute_result"
    }
   ],
   "source": [
    "# 딕셔너리의 키를 따로 추출하는 방법 --> 도트(.) 연산자를 사용하여 keys()메소드를 적용한다.\n",
    "dict1.keys()"
   ]
  },
  {
   "cell_type": "code",
   "execution_count": 62,
   "metadata": {},
   "outputs": [
    {
     "data": {
      "text/plain": [
       "dict_values(['Jay', 20, [3.0, 4.0, 3.5, 4.2]])"
      ]
     },
     "execution_count": 62,
     "metadata": {},
     "output_type": "execute_result"
    }
   ],
   "source": [
    "# 딕셔너리의 값을 따로 추출하는 방법 --> values() 메소드를 사용한다.\n",
    "dict1.values()"
   ]
  },
  {
   "cell_type": "code",
   "execution_count": 63,
   "metadata": {},
   "outputs": [
    {
     "data": {
      "text/plain": [
       "dict_items([('name', 'Jay'), ('age', 20), ('grade', [3.0, 4.0, 3.5, 4.2])])"
      ]
     },
     "execution_count": 63,
     "metadata": {},
     "output_type": "execute_result"
    }
   ],
   "source": [
    "# items() 메소드를 사용하면, (키, 값) 형태의 튜플 구조로 키와 매칭되는 값을 함께 추출한다.\n",
    "dict1.items()"
   ]
  },
  {
   "attachments": {},
   "cell_type": "markdown",
   "metadata": {},
   "source": [
    "####  if() 조건문\n",
    "- 참일 경우 명령문 실행 \n",
    "- 거짓일 경우 if문 종료 다음 코드 실행"
   ]
  },
  {
   "cell_type": "code",
   "execution_count": 65,
   "metadata": {},
   "outputs": [
    {
     "name": "stdout",
     "output_type": "stream",
     "text": [
      "a는 짝수\n",
      "a는 2의 배수\n"
     ]
    }
   ],
   "source": [
    "# if문 사용법\n",
    "a = 4\n",
    "if a%2 ==0:\n",
    "    print(\"a는 짝수\")\n",
    "    print(\"a는 2의 배수\")"
   ]
  },
  {
   "cell_type": "code",
   "execution_count": 66,
   "metadata": {},
   "outputs": [],
   "source": [
    "if a %2!=0:\n",
    "    print(\"a는 홀수\")"
   ]
  },
  {
   "attachments": {},
   "cell_type": "markdown",
   "metadata": {},
   "source": [
    "#### if ~ else 문\n",
    "- 조건을 만족하는 경우와 그렇지 않은 경우를 구분하여 프로그램을 제어할 때 사용"
   ]
  },
  {
   "cell_type": "code",
   "execution_count": 67,
   "metadata": {},
   "outputs": [
    {
     "name": "stdout",
     "output_type": "stream",
     "text": [
      "b는 홀수\n"
     ]
    }
   ],
   "source": [
    "b = 7\n",
    "if b%2 ==0:\n",
    "    print(\"b는 짝수\")\n",
    "else:\n",
    "    print(\"b는 홀수\")"
   ]
  },
  {
   "attachments": {},
   "cell_type": "markdown",
   "metadata": {},
   "source": [
    "#### 여러 조건을 중첩하여 적용 (if~elif~else)\n",
    "- 서로 다른 조건식을 여러 개 중첩하여 적용할 수 있다."
   ]
  },
  {
   "cell_type": "code",
   "execution_count": 68,
   "metadata": {},
   "outputs": [
    {
     "name": "stdout",
     "output_type": "stream",
     "text": [
      "c는 음수\n"
     ]
    }
   ],
   "source": [
    "c = -1\n",
    "\n",
    "if c>0:\n",
    "    print(\"c는 양수\")\n",
    "elif c<0:\n",
    "    print(\"c는 음수\")\n",
    "else:\n",
    "    print(\"c는 0\")"
   ]
  },
  {
   "attachments": {},
   "cell_type": "markdown",
   "metadata": {},
   "source": [
    "#### for 반복문\n",
    "- 동일한 명령을 여러 번 반복적으로 처리하고 싶을 때 사용한다."
   ]
  },
  {
   "cell_type": "code",
   "execution_count": 70,
   "metadata": {},
   "outputs": [
    {
     "name": "stdout",
     "output_type": "stream",
     "text": [
      "1\n",
      "2\n",
      "3\n"
     ]
    }
   ],
   "source": [
    "# num_list의 첫번째 원소인 1이 num 변수에 할당되어 print 명령으로 실행된다.\n",
    "num_list = [1,2,3]\n",
    "for num in num_list:\n",
    "    print(num)\n"
   ]
  },
  {
   "cell_type": "code",
   "execution_count": 72,
   "metadata": {},
   "outputs": [
    {
     "name": "stdout",
     "output_type": "stream",
     "text": [
      "기존 :  1\n",
      "2배 :  2\n",
      "\n",
      "\n",
      "기존 :  2\n",
      "2배 :  4\n",
      "\n",
      "\n",
      "기존 :  3\n",
      "2배 :  6\n",
      "\n",
      "\n"
     ]
    }
   ],
   "source": [
    "for num in [1,2,3]:\n",
    "    print(\"기존 : \", num)\n",
    "    print(\"2배 : \", num*2)\n",
    "    print(\"\\n\")"
   ]
  },
  {
   "cell_type": "code",
   "execution_count": 73,
   "metadata": {},
   "outputs": [
    {
     "name": "stdout",
     "output_type": "stream",
     "text": [
      "[2, 4, 6]\n"
     ]
    }
   ],
   "source": [
    "# for문을  이용하여 리스트에 원소를 추가하는 방법\n",
    "\n",
    "double = []\n",
    "for num in [1,2,3]:\n",
    "    double.append(num*2)\n",
    "\n",
    "print(double)"
   ]
  },
  {
   "attachments": {},
   "cell_type": "markdown",
   "metadata": {},
   "source": [
    "#### while 반복문\n",
    "- 조건식을 만족하는 True인 경우 명령문을 실행하고 다시 조건식을 비교하는 과정을 무한 반복한다.\n",
    "- 조건식을 만족하지 못하는 False일 때는 반복문이 종료된다."
   ]
  },
  {
   "cell_type": "code",
   "execution_count": 74,
   "metadata": {},
   "outputs": [
    {
     "name": "stdout",
     "output_type": "stream",
     "text": [
      "1\n",
      "2\n",
      "3\n"
     ]
    }
   ],
   "source": [
    "num =1\n",
    "while num<4:\n",
    "    print(num)\n",
    "    num = num +1"
   ]
  },
  {
   "attachments": {},
   "cell_type": "markdown",
   "metadata": {},
   "source": [
    "#### break명령\n",
    "- while 반복문에서 조건식 위치에 True를 입력하면 조건식이 항상 참이므로 들여쓰기 된 명령문들은 무한반복하며 실행된다.\n",
    "- 반복문을 빠져나오기 위해 break 명령문을 사용한다."
   ]
  },
  {
   "cell_type": "code",
   "execution_count": 77,
   "metadata": {},
   "outputs": [
    {
     "name": "stdout",
     "output_type": "stream",
     "text": [
      "[2, 4, 6]\n"
     ]
    }
   ],
   "source": [
    "num = 1\n",
    "double = []\n",
    "while True:\n",
    "    double.append(num*2)\n",
    "    if len(double)==3:\n",
    "        break\n",
    "    num +=1\n",
    "\n",
    "print(double)"
   ]
  },
  {
   "attachments": {},
   "cell_type": "markdown",
   "metadata": {},
   "source": [
    "#### continue 명령\n",
    "- while  반복문에서 continue 명령 뒤에 오는 나머지 코드를 실행하지 않고 조건식을 판별하는 while문의 처음으로 돌아가게 된다\n",
    "- while 반복문을 종료하고 밖으로 나오는 break 명령과 구별해야한다!"
   ]
  },
  {
   "cell_type": "code",
   "execution_count": 78,
   "metadata": {},
   "outputs": [
    {
     "name": "stdout",
     "output_type": "stream",
     "text": [
      "[1, 2, 3, 4, 5, 6, 7, 8, 9, 10, 11, 12, 13, 14, 15, 16, 17, 18, 19, 20, 21, 22, 23, 24, 25, 26, 27, 28, 29, 30, 31, 32, 33, 34, 35, 36, 37, 38, 39, 40, 41, 42, 43, 44, 45]\n"
     ]
    }
   ],
   "source": [
    "# 1~45까지 숫자 중에서 로또 번호 6개를 추출하는 코드\n",
    "num_range = range(1,46)\n",
    "num_list = list(num_range)\n",
    "print(num_list)"
   ]
  },
  {
   "cell_type": "code",
   "execution_count": 79,
   "metadata": {},
   "outputs": [
    {
     "name": "stdout",
     "output_type": "stream",
     "text": [
      "[8, 19, 26, 30, 13, 4, 27, 28, 6, 40, 25, 41, 32, 39, 21, 34, 33, 16, 20, 18, 35, 1, 7, 31, 14, 5, 12, 44, 17, 22, 10, 11, 42, 45, 38, 23, 9, 2, 43, 24, 29, 15, 36, 3, 37]\n"
     ]
    }
   ],
   "source": [
    "# random 모듈을 이용하여 난수 발생\n",
    "\n",
    "import random\n",
    "random.shuffle(num_list)\n",
    "print(num_list)"
   ]
  },
  {
   "cell_type": "code",
   "execution_count": 80,
   "metadata": {},
   "outputs": [
    {
     "name": "stdout",
     "output_type": "stream",
     "text": [
      "33\n",
      "38\n",
      "30\n",
      "34\n",
      "4\n",
      "28\n",
      "[33, 38, 30, 34, 4, 28]\n"
     ]
    }
   ],
   "source": [
    "# 빈 리스트를 만들어 lotto 변수에 할당한다.\n",
    "# while 반복문은 lotto 리스트에 들어 있는 원소 개수 6개 이하로 조건을 준다.\n",
    "\n",
    "lotto = []\n",
    "\n",
    "while len(lotto) < 6:\n",
    "    random.shuffle(num_list)\n",
    "    num_selected = num_list[0]\n",
    "    if num_selected in lotto:\n",
    "        continue # 로또에서 선택된 번호가 lotto리스트 안에 들어있을 경우에 다시 돌아가게 설정.\n",
    "    lotto.append(num_selected)\n",
    "    print(num_selected)\n",
    "\n",
    "print(lotto)"
   ]
  },
  {
   "attachments": {},
   "cell_type": "markdown",
   "metadata": {},
   "source": [
    "#### 예외처리 (try-except)\n"
   ]
  },
  {
   "cell_type": "code",
   "execution_count": 81,
   "metadata": {},
   "outputs": [
    {
     "data": {
      "text/plain": [
       "{'name': 'Jay', 'age': 20, 'grade': [3.0, 4.0, 3.5, 4.2]}"
      ]
     },
     "execution_count": 81,
     "metadata": {},
     "output_type": "execute_result"
    }
   ],
   "source": [
    "# 딕셔너리 정의\n",
    "data = {'name':'Jay', 'age': 20, 'grade': [3.0,4.0,3.5,4.2]}\n",
    "data"
   ]
  },
  {
   "attachments": {},
   "cell_type": "markdown",
   "metadata": {},
   "source": [
    "#### data 딕셔너리에 없는 키를 사용하면 오류 발생\n",
    "- data['address']\n"
   ]
  },
  {
   "cell_type": "code",
   "execution_count": 83,
   "metadata": {},
   "outputs": [
    {
     "ename": "KeyError",
     "evalue": "'address'",
     "output_type": "error",
     "traceback": [
      "\u001b[1;31m---------------------------------------------------------------------------\u001b[0m",
      "\u001b[1;31mKeyError\u001b[0m                                  Traceback (most recent call last)",
      "Cell \u001b[1;32mIn[83], line 2\u001b[0m\n\u001b[0;32m      1\u001b[0m \u001b[39m# data 딕셔너리에 없는 키를 사용하면 오류 발생\u001b[39;00m\n\u001b[1;32m----> 2\u001b[0m data[\u001b[39m'\u001b[39;49m\u001b[39maddress\u001b[39;49m\u001b[39m'\u001b[39;49m]\n",
      "\u001b[1;31mKeyError\u001b[0m: 'address'"
     ]
    }
   ],
   "source": [
    "# data 딕셔너리에 없는 키를 사용하면 오류 발생\n",
    "data['address']"
   ]
  },
  {
   "attachments": {},
   "cell_type": "markdown",
   "metadata": {},
   "source": [
    "- data 딕셔너리에 address라는 키가 존재하면 매칭된 값을 출력하고, 오류가 발생하면 출력문으로 정보가 없습니다 출력해주기"
   ]
  },
  {
   "cell_type": "code",
   "execution_count": 84,
   "metadata": {},
   "outputs": [
    {
     "name": "stdout",
     "output_type": "stream",
     "text": [
      "주소 정보가 없습니다.\n"
     ]
    }
   ],
   "source": [
    "data = {'name':'Jay', 'age': 20, 'grade': [3.0,4.0,3.5,4.2]}\n",
    "try:\n",
    "    print(\"주소:\", data['address'])\n",
    "except:\n",
    "    print(\"주소 정보가 없습니다.\")"
   ]
  },
  {
   "attachments": {},
   "cell_type": "markdown",
   "metadata": {},
   "source": [
    "- 오류 발생 여부와 관계없이 반드시 실행해야 하는 코드가 있을 때는 finally구문을 추가한다."
   ]
  },
  {
   "cell_type": "code",
   "execution_count": 86,
   "metadata": {},
   "outputs": [
    {
     "name": "stdout",
     "output_type": "stream",
     "text": [
      "이름: Jay\n",
      "모든 작업이 완료되었습니다.\n"
     ]
    }
   ],
   "source": [
    "#\n",
    "data = {'name':'Jay', 'age': 20, 'grade': [3.0,4.0,3.5,4.2]}\n",
    "try:\n",
    "    print(\"이름:\", data['name'])\n",
    "except:\n",
    "    print(\"이름 정보가 없습니다.\")\n",
    "finally:\n",
    "    print(\"모든 작업이 완료되었습니다.\")"
   ]
  },
  {
   "attachments": {},
   "cell_type": "markdown",
   "metadata": {},
   "source": [
    "#### 함수\n",
    "- 사용자 정의 함수\n",
    "- 예약어 def 사용하여 괄호() 안에는 매개변수를 써주고 콜론(:)을 끝부분에 입력한다.\n",
    "- return 명령으로 반환값을 반환받는다."
   ]
  },
  {
   "cell_type": "code",
   "execution_count": 87,
   "metadata": {},
   "outputs": [
    {
     "data": {
      "text/plain": [
       "2"
      ]
     },
     "execution_count": 87,
     "metadata": {},
     "output_type": "execute_result"
    }
   ],
   "source": [
    "# 나머지 계산 함수 만들기\n",
    "\n",
    "def cal_modulo(a,b):\n",
    "    temp = a%b\n",
    "    return temp\n",
    "\n",
    "cal_modulo(5,3)"
   ]
  },
  {
   "cell_type": "code",
   "execution_count": 88,
   "metadata": {},
   "outputs": [
    {
     "name": "stdout",
     "output_type": "stream",
     "text": [
      "1\n"
     ]
    }
   ],
   "source": [
    "modulo = cal_modulo(10,3)\n",
    "print(modulo)"
   ]
  },
  {
   "cell_type": "code",
   "execution_count": 89,
   "metadata": {},
   "outputs": [
    {
     "name": "stdout",
     "output_type": "stream",
     "text": [
      "2\n",
      "0\n",
      "1\n"
     ]
    }
   ],
   "source": [
    "# (a,b)와 같은 형태로 2개의 숫자를 원소로 갖는 투플을 사용하면, cal_modulo 함수의 매개변수인 a,b에 값을 전달할 수 있다.\n",
    "\n",
    "num_pairs = [(5,3),(2,2),(10,3)]\n",
    "for a,b in num_pairs:\n",
    "    modulo = cal_modulo(a,b)\n",
    "    print(modulo)"
   ]
  },
  {
   "cell_type": "code",
   "execution_count": 91,
   "metadata": {},
   "outputs": [
    {
     "data": {
      "text/plain": [
       "{(5, 3): 2, (2, 2): 0, (10, 3): 1}"
      ]
     },
     "execution_count": 91,
     "metadata": {},
     "output_type": "execute_result"
    }
   ],
   "source": [
    "# 2개의 숫자 쌍을 원소로 갖는 리스트를 입력받아, 각 숫자 쌍에 대한 나머지 연산의 결과를 딕셔너리 형태로 저장하는 함수 생성하기\n",
    "\n",
    "def cal_paris_modulo(num_paris_list):\n",
    "    result = {}\n",
    "    for a,b in num_paris_list:\n",
    "        modulo = a%b\n",
    "        result[(a,b)] = modulo\n",
    "    return result\n",
    "\n",
    "mod_pairs = cal_paris_modulo(num_pairs)\n",
    "mod_pairs"
   ]
  },
  {
   "cell_type": "code",
   "execution_count": 92,
   "metadata": {},
   "outputs": [
    {
     "name": "stdout",
     "output_type": "stream",
     "text": [
      "{(5, 3): 2, (2, 2): 0, (10, 3): 1}\n"
     ]
    }
   ],
   "source": [
    "# 함수의 연산을 처리하는 코드 블록에 다른 함수를 불러와 사용할 수 있다.\n",
    "\n",
    "def print_mod_pairs():\n",
    "    print(cal_paris_modulo(num_pairs))\n",
    "\n",
    "print_mod_pairs()"
   ]
  },
  {
   "attachments": {},
   "cell_type": "markdown",
   "metadata": {},
   "source": [
    "#### lambda 함수\n"
   ]
  },
  {
   "cell_type": "code",
   "execution_count": 94,
   "metadata": {},
   "outputs": [
    {
     "name": "stdout",
     "output_type": "stream",
     "text": [
      "2\n"
     ]
    }
   ],
   "source": [
    "#숫자를 입력받아 1을 더한 값을 출력값으로 반환하는 add_one 함수를 정의해보자.\n",
    "\n",
    "def add_one(num):\n",
    "    return num+1\n",
    "\n",
    "answer = add_one(1)\n",
    "print(answer)\n"
   ]
  },
  {
   "cell_type": "code",
   "execution_count": 96,
   "metadata": {},
   "outputs": [
    {
     "name": "stdout",
     "output_type": "stream",
     "text": [
      "[2, 3, 4]\n"
     ]
    }
   ],
   "source": [
    "# for 반복문을 사용하여 3개의 숫자를 순서대로 add_one 함수에 입력하고 결과값을 리스트의 원소로 추가한다.\n",
    "\n",
    "add_one_list = []\n",
    "\n",
    "for x in [1,2,3]:\n",
    "    y = add_one(x)\n",
    "    add_one_list.append(y)\n",
    "\n",
    "print(add_one_list)"
   ]
  },
  {
   "cell_type": "code",
   "execution_count": 97,
   "metadata": {},
   "outputs": [
    {
     "name": "stdout",
     "output_type": "stream",
     "text": [
      "[2, 3, 4]\n"
     ]
    }
   ],
   "source": [
    "# 람다 함수를 사용하는 이유는 함수를 간단한 표현으로 정의할 수 있기 때문이다.\n",
    "# lambda 입력값(x) : 출력값(y)로 정의한다.\n",
    "\n",
    "add_one_lambda = []\n",
    "add_func = lambda x:add_one_lambda.append(x+1)\n",
    "\n",
    "for x in [1,2,3]:\n",
    "    add_func(x)\n",
    "\n",
    "print(add_one_lambda)"
   ]
  },
  {
   "cell_type": "code",
   "execution_count": 98,
   "metadata": {},
   "outputs": [
    {
     "name": "stdout",
     "output_type": "stream",
     "text": [
      "5\n"
     ]
    }
   ],
   "source": [
    "# 두 개의 입력값 x,y를 받아 덧셈을 하는 람다 함수를 정의한다.\n",
    "\n",
    "new_add_func = lambda x,y :x+y\n",
    "answer = new_add_func(2,3)\n",
    "print(answer)"
   ]
  },
  {
   "attachments": {},
   "cell_type": "markdown",
   "metadata": {},
   "source": [
    "#### 파이썬 내장 함수"
   ]
  },
  {
   "cell_type": "code",
   "execution_count": 99,
   "metadata": {},
   "outputs": [
    {
     "data": {
      "text/plain": [
       "55"
      ]
     },
     "execution_count": 99,
     "metadata": {},
     "output_type": "execute_result"
    }
   ],
   "source": [
    "# sum 함수\n",
    "# 원소들의 합계를 구한다.\n",
    "numbers = [1,2,3,4,5,6,7,8,9,10]\n",
    "sum(numbers)"
   ]
  },
  {
   "cell_type": "code",
   "execution_count": 100,
   "metadata": {},
   "outputs": [
    {
     "data": {
      "text/plain": [
       "10"
      ]
     },
     "execution_count": 100,
     "metadata": {},
     "output_type": "execute_result"
    }
   ],
   "source": [
    "# max 함수\n",
    "# 원소 중에서 최대 값을 찾는다.\n",
    "max(numbers)"
   ]
  },
  {
   "cell_type": "code",
   "execution_count": 101,
   "metadata": {},
   "outputs": [
    {
     "data": {
      "text/plain": [
       "1"
      ]
     },
     "execution_count": 101,
     "metadata": {},
     "output_type": "execute_result"
    }
   ],
   "source": [
    "# min 함수\n",
    "# 원소 중에서 최소 값을 찾는다.\n",
    "min(numbers)"
   ]
  },
  {
   "cell_type": "code",
   "execution_count": 102,
   "metadata": {},
   "outputs": [
    {
     "data": {
      "text/plain": [
       "10"
      ]
     },
     "execution_count": 102,
     "metadata": {},
     "output_type": "execute_result"
    }
   ],
   "source": [
    "# len 함수\n",
    "# 원소의 개수, 문자열의 길이를 계산한다.\n",
    "\n",
    "len(numbers)"
   ]
  },
  {
   "cell_type": "code",
   "execution_count": 103,
   "metadata": {},
   "outputs": [
    {
     "name": "stdout",
     "output_type": "stream",
     "text": [
      "0 1\n",
      "1 2\n",
      "2 3\n",
      "3 4\n",
      "4 5\n",
      "5 6\n",
      "6 7\n",
      "7 8\n",
      "8 9\n",
      "9 10\n"
     ]
    }
   ],
   "source": [
    "# enumerate 함수\n",
    "# 리스트, 튜플 등 원소값에 순서(인덱스)가 있는 자료형을 입력받아 개별 원소를 인덱스 숫자와 함께 반환해준다.\n",
    "\n",
    "for i, num in enumerate(numbers):\n",
    "    print(i,num)"
   ]
  },
  {
   "cell_type": "code",
   "execution_count": 104,
   "metadata": {},
   "outputs": [
    {
     "data": {
      "text/plain": [
       "range(0, 10)"
      ]
     },
     "execution_count": 104,
     "metadata": {},
     "output_type": "execute_result"
    }
   ],
   "source": [
    "# range 함수\n",
    "# 입력 값 범위에 해당하는 정수의 배열을 만든다.\n",
    "\n",
    "range(10)"
   ]
  },
  {
   "cell_type": "code",
   "execution_count": 105,
   "metadata": {},
   "outputs": [
    {
     "data": {
      "text/plain": [
       "[0, 1, 2, 3, 4, 5, 6, 7, 8, 9]"
      ]
     },
     "execution_count": 105,
     "metadata": {},
     "output_type": "execute_result"
    }
   ],
   "source": [
    "list(range(10))"
   ]
  },
  {
   "cell_type": "code",
   "execution_count": 106,
   "metadata": {},
   "outputs": [
    {
     "name": "stdout",
     "output_type": "stream",
     "text": [
      "[0, 1, 2, 3, 4, 5, 6, 7, 8, 9]\n"
     ]
    }
   ],
   "source": [
    "# list 함수\n",
    "# 입력받은 데이터를 리스트로 변환한다.\n",
    "\n",
    "print(list(range(10)))"
   ]
  },
  {
   "cell_type": "code",
   "execution_count": 107,
   "metadata": {},
   "outputs": [
    {
     "name": "stdout",
     "output_type": "stream",
     "text": [
      "[1, 2, 3, 4, 5, 6, 7, 8, 9, 10]\n"
     ]
    }
   ],
   "source": [
    "# eval 함수\n",
    "# 문자열을 입력받아 파이썬 코드로 변환하여 실행한다.\n",
    "\n",
    "eval('print(numbers)')\n"
   ]
  },
  {
   "cell_type": "code",
   "execution_count": 108,
   "metadata": {},
   "outputs": [
    {
     "name": "stdout",
     "output_type": "stream",
     "text": [
      "[2, 3, 4, 5, 6, 7, 8, 9, 10, 11]\n"
     ]
    }
   ],
   "source": [
    "# map 함수\n",
    "# 여러 개의 원소를 갖는 자료형(리스트, 튜플)과 이들 원소를 입력값으로 받는 함수를 매개변수로 갖는다.\n",
    "\n",
    "add_one = lambda x:x+1\n",
    "results = map(add_one, numbers)\n",
    "print(list(results))"
   ]
  },
  {
   "cell_type": "code",
   "execution_count": 109,
   "metadata": {},
   "outputs": [
    {
     "name": "stdout",
     "output_type": "stream",
     "text": [
      "[2, 4, 6, 8, 10]\n"
     ]
    }
   ],
   "source": [
    "# filter 함수\n",
    "# map함수와 비슷하게 반복 가능한 여러 원소를 갖는 자료형과 각 원소를 입력받을 수 있는 함수를 매개변수로 입력받는다.\n",
    "\n",
    "even_num = lambda x:x%2==0\n",
    "results = filter(even_num, numbers)\n",
    "\n",
    "print(list(results))"
   ]
  },
  {
   "cell_type": "code",
   "execution_count": 111,
   "metadata": {},
   "outputs": [
    {
     "data": {
      "text/plain": [
       "3"
      ]
     },
     "execution_count": 111,
     "metadata": {},
     "output_type": "execute_result"
    }
   ],
   "source": [
    "# int 함수\n",
    "# 실수를 정수형으로 변환한다.\n",
    "\n",
    "int(3.14)"
   ]
  },
  {
   "cell_type": "code",
   "execution_count": 112,
   "metadata": {},
   "outputs": [
    {
     "data": {
      "text/plain": [
       "'3.14'"
      ]
     },
     "execution_count": 112,
     "metadata": {},
     "output_type": "execute_result"
    }
   ],
   "source": [
    "# str함수\n",
    "# 입력값을 문자열 자료형으로 변환한다.\n",
    "\n",
    "str(3.14)"
   ]
  },
  {
   "cell_type": "code",
   "execution_count": 113,
   "metadata": {},
   "outputs": [
    {
     "data": {
      "text/plain": [
       "3"
      ]
     },
     "execution_count": 113,
     "metadata": {},
     "output_type": "execute_result"
    }
   ],
   "source": [
    "# round 함수\n",
    "# 숫자를 입력받아 반올림 한다\n",
    "round(3.14)"
   ]
  },
  {
   "cell_type": "code",
   "execution_count": 114,
   "metadata": {},
   "outputs": [
    {
     "name": "stdout",
     "output_type": "stream",
     "text": [
      "[10, 9, 8, 7, 6, 5, 4, 3, 2, 1]\n"
     ]
    }
   ],
   "source": [
    "# reversed 함수\n",
    "# 원소들이 위치하는 순서를 정반대로 뒤집어 준다.\n",
    "\n",
    "numbers_reversed = reversed(numbers)\n",
    "print(list(numbers_reversed))"
   ]
  },
  {
   "cell_type": "code",
   "execution_count": 115,
   "metadata": {},
   "outputs": [
    {
     "data": {
      "text/plain": [
       "[1, 2, 3]"
      ]
     },
     "execution_count": 115,
     "metadata": {},
     "output_type": "execute_result"
    }
   ],
   "source": [
    "# sorted 함수\n",
    "# 배열의 순서를 오름차순으로 정렬한다.\n",
    "\n",
    "sorted([3,2,1])"
   ]
  },
  {
   "cell_type": "code",
   "execution_count": 116,
   "metadata": {},
   "outputs": [
    {
     "name": "stdout",
     "output_type": "stream",
     "text": [
      "[('a', 1), ('b', 2), ('c', 3)]\n"
     ]
    }
   ],
   "source": [
    "# zip함수\n",
    "# 원소 개수가 같은 자료형들에 대하여 각 원소들을 인덱스 순서대로 매핑하여 짝을 짓는다.\n",
    "\n",
    "chars = ['a','b','c']\n",
    "nums = [1,2,3]\n",
    "\n",
    "paris = zip(chars,nums)\n",
    "print(list(paris))"
   ]
  },
  {
   "attachments": {},
   "cell_type": "markdown",
   "metadata": {},
   "source": [
    "#### 클래스\n",
    "- 여러 개의 함수를 내부 메소드로 지정할 수 있다\n",
    "- 다양한 자료형 데이터를 내부 속성으로 가질 수 있다."
   ]
  },
  {
   "cell_type": "code",
   "execution_count": 117,
   "metadata": {},
   "outputs": [
    {
     "data": {
      "text/plain": [
       "3"
      ]
     },
     "execution_count": 117,
     "metadata": {},
     "output_type": "execute_result"
    }
   ],
   "source": [
    "def add(num1,num2):\n",
    "    return num1+num2\n",
    "\n",
    "add(1,2)"
   ]
  },
  {
   "cell_type": "code",
   "execution_count": 121,
   "metadata": {},
   "outputs": [
    {
     "name": "stdout",
     "output_type": "stream",
     "text": [
      "1 2 0\n"
     ]
    },
    {
     "data": {
      "text/plain": [
       "3"
      ]
     },
     "execution_count": 121,
     "metadata": {},
     "output_type": "execute_result"
    }
   ],
   "source": [
    "# class를 정의하는 에약어로 예약어 상용후 클래스 이름 뒤에 콜론(:)을 붙힌다.\n",
    "# __init__ 함수는 클래스 객체가 생성될 때 자동으로 실행된다.\n",
    "\n",
    "\n",
    "class Calculator:\n",
    "    def __init__(self, num1, num2):\n",
    "        self.num1 = num1\n",
    "        self.num2 = num2\n",
    "        self.result= 0\n",
    "\n",
    "    def add(self):\n",
    "        self.result = self.num1 + self.num2\n",
    "        return self.result\n",
    "\n",
    "\n",
    "# 객체 사용법\n",
    "\n",
    "cal = Calculator(1,2)\n",
    "\n",
    "# 메소드 사용 전 결과값\n",
    "print(cal.num1, cal.num2, cal.result)\n",
    "\n",
    "\n",
    "# 메소드 사용 후 결과값 \n",
    "cal.add()\n",
    "cal.result\n"
   ]
  },
  {
   "cell_type": "code",
   "execution_count": 123,
   "metadata": {},
   "outputs": [],
   "source": [
    "\n",
    "class Calculator:\n",
    "    def __init__(self, num1, num2):\n",
    "        self.num1 = num1\n",
    "        self.num2 = num2\n",
    "        self.result= 0\n",
    "\n",
    "    def add(self):\n",
    "        self.result = self.num1 + self.num2\n",
    "        return self.result\n",
    "\n",
    "    def subtract(self):\n",
    "        self.result = self.num1 - self.num2\n",
    "        return self.result\n",
    "\n",
    "    def multiply(self):\n",
    "        self.result = self.num1 * self.num2\n",
    "        return self.result\n",
    "    \n",
    "    def divide(self):\n",
    "        self.result = self.num1 /self.num2\n",
    "        return self.result\n",
    "\n",
    "    def change(self, num1, num2):\n",
    "        self.num1 = num1\n",
    "        self.num2 = num2\n",
    "        print(\"num1:\", self.num1)\n",
    "        print(\"num2:\", self.num2)\n"
   ]
  },
  {
   "cell_type": "code",
   "execution_count": 124,
   "metadata": {},
   "outputs": [
    {
     "name": "stdout",
     "output_type": "stream",
     "text": [
      "1 2\n",
      "3\n",
      "-1\n",
      "2\n",
      "0.5\n",
      "num1: 3\n",
      "num2: 2\n"
     ]
    },
    {
     "data": {
      "text/plain": [
       "5"
      ]
     },
     "execution_count": 124,
     "metadata": {},
     "output_type": "execute_result"
    }
   ],
   "source": [
    "cal2 = Calculator(1,2)\n",
    "\n",
    "print(cal2.num1, cal2.num2)\n",
    "print(cal2.add())\n",
    "print(cal2.subtract())\n",
    "print(cal2.multiply())\n",
    "print(cal2.divide())\n",
    "\n",
    "cal2.change(3,2)\n",
    "cal2.add()"
   ]
  },
  {
   "cell_type": "code",
   "execution_count": null,
   "metadata": {},
   "outputs": [],
   "source": []
  }
 ],
 "metadata": {
  "kernelspec": {
   "display_name": "Python 3",
   "language": "python",
   "name": "python3"
  },
  "language_info": {
   "codemirror_mode": {
    "name": "ipython",
    "version": 3
   },
   "file_extension": ".py",
   "mimetype": "text/x-python",
   "name": "python",
   "nbconvert_exporter": "python",
   "pygments_lexer": "ipython3",
   "version": "3.11.1"
  },
  "orig_nbformat": 4,
  "vscode": {
   "interpreter": {
    "hash": "8d29ec00ae0add0190cce9c6bb44028ed64b4cb4a58b5f5c12e34c6897e75494"
   }
  }
 },
 "nbformat": 4,
 "nbformat_minor": 2
}
